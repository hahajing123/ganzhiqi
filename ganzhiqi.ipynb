{
 "cells": [
  {
   "cell_type": "code",
   "execution_count": 10,
   "metadata": {},
   "outputs": [],
   "source": [
    "import pandas as pd\n",
    "import numpy as np\n",
    "import matplotlib.pyplot as plt"
   ]
  },
  {
   "cell_type": "code",
   "execution_count": 11,
   "metadata": {},
   "outputs": [
    {
     "data": {
      "text/html": [
       "<div>\n",
       "<style scoped>\n",
       "    .dataframe tbody tr th:only-of-type {\n",
       "        vertical-align: middle;\n",
       "    }\n",
       "\n",
       "    .dataframe tbody tr th {\n",
       "        vertical-align: top;\n",
       "    }\n",
       "\n",
       "    .dataframe thead th {\n",
       "        text-align: right;\n",
       "    }\n",
       "</style>\n",
       "<table border=\"1\" class=\"dataframe\">\n",
       "  <thead>\n",
       "    <tr style=\"text-align: right;\">\n",
       "      <th></th>\n",
       "      <th>0</th>\n",
       "      <th>1</th>\n",
       "      <th>2</th>\n",
       "    </tr>\n",
       "  </thead>\n",
       "  <tbody>\n",
       "    <tr>\n",
       "      <th>0</th>\n",
       "      <td>0.78051</td>\n",
       "      <td>-0.063669</td>\n",
       "      <td>1</td>\n",
       "    </tr>\n",
       "    <tr>\n",
       "      <th>1</th>\n",
       "      <td>0.28774</td>\n",
       "      <td>0.291390</td>\n",
       "      <td>1</td>\n",
       "    </tr>\n",
       "    <tr>\n",
       "      <th>2</th>\n",
       "      <td>0.40714</td>\n",
       "      <td>0.178780</td>\n",
       "      <td>1</td>\n",
       "    </tr>\n",
       "    <tr>\n",
       "      <th>3</th>\n",
       "      <td>0.29230</td>\n",
       "      <td>0.421700</td>\n",
       "      <td>1</td>\n",
       "    </tr>\n",
       "    <tr>\n",
       "      <th>4</th>\n",
       "      <td>0.50922</td>\n",
       "      <td>0.352560</td>\n",
       "      <td>1</td>\n",
       "    </tr>\n",
       "  </tbody>\n",
       "</table>\n",
       "</div>"
      ],
      "text/plain": [
       "         0         1  2\n",
       "0  0.78051 -0.063669  1\n",
       "1  0.28774  0.291390  1\n",
       "2  0.40714  0.178780  1\n",
       "3  0.29230  0.421700  1\n",
       "4  0.50922  0.352560  1"
      ]
     },
     "execution_count": 11,
     "metadata": {},
     "output_type": "execute_result"
    }
   ],
   "source": [
    "data = pd.read_csv('data.csv',header=None)\n",
    "data.head()"
   ]
  },
  {
   "cell_type": "code",
   "execution_count": 12,
   "metadata": {},
   "outputs": [
    {
     "data": {
      "text/plain": [
       "<matplotlib.collections.PathCollection at 0x9056400>"
      ]
     },
     "execution_count": 12,
     "metadata": {},
     "output_type": "execute_result"
    },
    {
     "data": {
      "image/png": "[encoded data removed]",
      "text/plain": [
       "<Figure size 432x288 with 1 Axes>"
      ]
     },
     "metadata": {},
     "output_type": "display_data"
    }
   ],
   "source": [
    "X_red = data[data[2] == 1]\n",
    "X_blue = data[data[2] == 0]\n",
    "plt.scatter(X_blue[0],X_blue[1],c='blue',edgecolor='k',s=50)\n",
    "plt.scatter(X_red[0],X_red[1],c='red',edgecolor='k',s=50)"
   ]
  },
  {
   "cell_type": "code",
   "execution_count": 140,
   "metadata": {},
   "outputs": [
    {
     "name": "stdout",
     "output_type": "stream",
     "text": [
      "____________\n",
      "[[ 0.78051   -0.063669 ]\n",
      " [ 0.28774    0.29139  ]\n",
      " [ 0.40714    0.17878  ]\n",
      " [ 0.2923     0.4217   ]\n",
      " [ 0.50922    0.35256  ]\n",
      " [ 0.27785    0.10802  ]\n",
      " [ 0.27527    0.33223  ]\n",
      " [ 0.43999    0.31245  ]\n",
      " [ 0.33557    0.42984  ]\n",
      " [ 0.23448    0.24986  ]\n",
      " [ 0.0084492  0.13658  ]\n",
      " [ 0.12419    0.33595  ]\n",
      " [ 0.25644    0.42624  ]\n",
      " [ 0.4591     0.40426  ]\n",
      " [ 0.44547    0.45117  ]\n",
      " [ 0.42218    0.20118  ]\n",
      " [ 0.49563    0.21445  ]\n",
      " [ 0.30848    0.24306  ]\n",
      " [ 0.39707    0.44438  ]\n",
      " [ 0.32945    0.39217  ]\n",
      " [ 0.40739    0.40271  ]\n",
      " [ 0.3106     0.50702  ]\n",
      " [ 0.49638    0.45384  ]\n",
      " [ 0.10073    0.32053  ]\n",
      " [ 0.69907    0.37307  ]\n",
      " [ 0.29767    0.69648  ]\n",
      " [ 0.15099    0.57341  ]\n",
      " [ 0.16427    0.27759  ]\n",
      " [ 0.33259    0.055964 ]\n",
      " [ 0.53741    0.28637  ]\n",
      " [ 0.19503    0.36879  ]\n",
      " [ 0.40278    0.035148 ]\n",
      " [ 0.21296    0.55169  ]\n",
      " [ 0.48447    0.56991  ]\n",
      " [ 0.25476    0.34596  ]\n",
      " [ 0.21726    0.28641  ]\n",
      " [ 0.67078    0.46538  ]\n",
      " [ 0.3815     0.4622   ]\n",
      " [ 0.53838    0.32774  ]\n",
      " [ 0.4849     0.26071  ]\n",
      " [ 0.37095    0.38809  ]\n",
      " [ 0.54527    0.63911  ]\n",
      " [ 0.32149    0.12007  ]\n",
      " [ 0.42216    0.61666  ]\n",
      " [ 0.10194    0.060408 ]\n",
      " [ 0.15254    0.2168   ]\n",
      " [ 0.45558    0.43769  ]\n",
      " [ 0.28488    0.52142  ]\n",
      " [ 0.27633    0.21264  ]\n",
      " [ 0.39748    0.31902  ]\n",
      " [ 0.5533     1.       ]\n",
      " [ 0.44274    0.59205  ]\n",
      " [ 0.85176    0.6612   ]\n",
      " [ 0.60436    0.86605  ]\n",
      " [ 0.68243    0.48301  ]\n",
      " [ 1.         0.76815  ]\n",
      " [ 0.72989    0.8107   ]\n",
      " [ 0.67377    0.77975  ]\n",
      " [ 0.78761    0.58177  ]\n",
      " [ 0.71442    0.7668   ]\n",
      " [ 0.49379    0.54226  ]\n",
      " [ 0.78974    0.74233  ]\n",
      " [ 0.67905    0.60921  ]\n",
      " [ 0.6642     0.72519  ]\n",
      " [ 0.79396    0.56789  ]\n",
      " [ 0.70758    0.76022  ]\n",
      " [ 0.59421    0.61857  ]\n",
      " [ 0.49364    0.56224  ]\n",
      " [ 0.77707    0.35025  ]\n",
      " [ 0.79785    0.76921  ]\n",
      " [ 0.70876    0.96764  ]\n",
      " [ 0.69176    0.60865  ]\n",
      " [ 0.66408    0.92075  ]\n",
      " [ 0.65973    0.66666  ]\n",
      " [ 0.64574    0.56845  ]\n",
      " [ 0.89639    0.7085   ]\n",
      " [ 0.85476    0.63167  ]\n",
      " [ 0.62091    0.80424  ]\n",
      " [ 0.79057    0.56108  ]\n",
      " [ 0.58935    0.71582  ]\n",
      " [ 0.56846    0.7406   ]\n",
      " [ 0.65912    0.71548  ]\n",
      " [ 0.70938    0.74041  ]\n",
      " [ 0.59154    0.62927  ]\n",
      " [ 0.45829    0.4641   ]\n",
      " [ 0.79982    0.74847  ]\n",
      " [ 0.60974    0.54757  ]\n",
      " [ 0.68127    0.86985  ]\n",
      " [ 0.76694    0.64736  ]\n",
      " [ 0.69048    0.83058  ]\n",
      " [ 0.68122    0.96541  ]\n",
      " [ 0.73229    0.64245  ]\n",
      " [ 0.76145    0.60138  ]\n",
      " [ 0.58985    0.86955  ]\n",
      " [ 0.73145    0.74516  ]\n",
      " [ 0.77029    0.7014   ]\n",
      " [ 0.73156    0.71782  ]\n",
      " [ 0.44556    0.57991  ]\n",
      " [ 0.85275    0.85987  ]\n",
      " [ 0.51912    0.62359  ]]\n",
      "**************************\n",
      "[ 0.78051  -0.063669]\n"
     ]
    }
   ],
   "source": [
    "X = data[[0,1]]\n",
    "print('____________')\n",
    "X = np.array(X)\n",
    "print(X)\n",
    "print(\"**************************\")\n",
    "print(X[0])\n",
    "y = data[2]\n",
    "np.random.seed(42)\n",
    "\n",
    "def stepFunction(t):\n",
    "    if t >= 0:\n",
    "        return 1\n",
    "    return 0\n",
    "\n",
    "def prediction(X, W, b):\n",
    "    \n",
    "    return stepFunction((np.matmul(X,W)+b)[0])\n",
    "\n",
    "# TODO: Fill in the code below to implement the perceptron trick.\n",
    "# The function should receive as inputs the data X, the labels y,\n",
    "# the weights W (as an array), and the bias b,\n",
    "# update the weights and bias W, b, according to the perceptron algorithm,\n",
    "# and return W and b.\n",
    "def perceptronStep(X, y, W, b, learn_rate = 0.01):\n",
    "    # Fill in code\n",
    "    for i in range(len(X)):\n",
    "        y_hat = prediction(X[i], W, b)\n",
    "        if y[i]-y_hat == 1:\n",
    "            W[0] += X[i][0]*learn_rate\n",
    "            W[1] += X[i][1]*learn_rate\n",
    "            b += learn_rate\n",
    "        elif y[i]-y_hat == -1:\n",
    "            W[0] -= X[i][0]*learn_rate\n",
    "            W[1] -= X[i][1]*learn_rate\n",
    "            b -= learn_rate\n",
    "    #print(\"********** perceptronStep **********\")\n",
    "    #print(W,b)\n",
    "    return W, b\n",
    "    \n",
    "# This function runs the perceptron algorithm repeatedly on the dataset,\n",
    "# and returns a few of the boundary lines obtained in the iterations,\n",
    "# for plotting purposes.\n",
    "# Feel free to play with the learning rate and the num_epochs,\n",
    "# and see your results plotted below.\n",
    "def trainPerceptronAlgorithm(X, y, learn_rate = 0.01, num_epochs = 25):\n",
    "    x_min, x_max = min(X.T[0]), max(X.T[0])\n",
    "    print(\"$$$$ x_min, x_max $$$$$$\")\n",
    "    print(x_min, x_max)\n",
    "    y_min, y_max = min(X.T[1]), max(X.T[1])\n",
    "    W = np.array(np.random.rand(2,1))\n",
    "    b = np.random.rand(1)[0] + x_max\n",
    "    # These are the solution lines that get plotted below.\n",
    "    boundary_lines = []\n",
    "    wb_lines = [] \n",
    "    for i in range(num_epochs):\n",
    "        # In each epoch, we apply the perceptron step.\n",
    "        W, b = perceptronStep(X, y, W, b, learn_rate)\n",
    "        #wb_lines.append(W,b)\n",
    "        boundary_lines.append((-b/W[0], -b/W[1]))\n",
    "    print(\"^^^^^^^^^^^^^^^^^^^^^^^^^^^^^^^^^^^\")\n",
    "    print(wb_lines)\n",
    "    return boundary_lines"
   ]
  },
  {
   "cell_type": "code",
   "execution_count": 174,
   "metadata": {},
   "outputs": [
    {
     "name": "stdout",
     "output_type": "stream",
     "text": [
      "$$$$ x_min, x_max $$$$$$\n",
      "0.0084492 1.0\n",
      "^^^^^^^^^^^^^^^^^^^^^^^^^^^^^^^^^^^\n",
      "[]\n",
      "[(array([0.6753573]), array([0.87993855])), (array([0.75048598]), array([0.73442719])), (array([0.80089571]), array([0.68878959])), (array([0.85856504]), array([0.64849203])), (array([0.84003257]), array([0.64767691])), (array([0.90369983]), array([0.61192151])), (array([0.9242969]), array([0.58632412])), (array([0.94585477]), array([0.56278229])), (array([0.96844226]), array([0.54105796])), (array([0.99213495]), array([0.52094849])), (array([1.3934887]), array([0.69099831])), (array([1.41618681]), array([0.67713182])), (array([1.43963661]), array([0.6638109])), (array([1.40345249]), array([0.66550556])), (array([1.36904268]), array([0.6672089])), (array([1.31706725]), array([0.6686649])), (array([1.26889394]), array([0.67012728])), (array([1.22412028]), array([0.67159606])), (array([1.18239866]), array([0.67307129])), (array([1.14342729]), array([0.67455302])), (array([1.11053569]), array([0.67147518])), (array([1.06494967]), array([0.66824525])), (array([1.03432975]), array([0.66017901])), (array([1.00542141]), array([0.65230519])), (array([0.9854218]), array([0.65165712]))]\n"
     ]
    }
   ],
   "source": [
    "lines = trainPerceptronAlgorithm(X,y,learn_rate=0.1,num_epochs = 25)\n",
    "print(lines)"
   ]
  },
  {
   "cell_type": "code",
   "execution_count": 175,
   "metadata": {},
   "outputs": [
    {
     "name": "stdout",
     "output_type": "stream",
     "text": [
      "0\n",
      "1\n",
      "2\n",
      "3\n",
      "4\n",
      "5\n",
      "6\n",
      "7\n",
      "8\n",
      "9\n",
      "10\n",
      "11\n",
      "12\n",
      "13\n",
      "14\n",
      "15\n",
      "16\n",
      "17\n",
      "18\n",
      "19\n",
      "20\n",
      "21\n",
      "22\n",
      "23\n"
     ]
    },
    {
     "data": {
      "text/plain": [
       "\"\\nplt.fill_between(x,\\n\\n                 y>0,\\n\\n                 where=(0<x) & (x<1),\\n\\n                 facecolor='green')\\nplt.fill_between(X, 1, 1, color='blue', alpha=.25)\\n\""
      ]
     },
     "execution_count": 175,
     "metadata": {},
     "output_type": "execute_result"
    },
    {
     "data": {
      "image/png": "[encoded data removed]",
      "text/plain": [
       "<Figure size 432x288 with 1 Axes>"
      ]
     },
     "metadata": {},
     "output_type": "display_data"
    }
   ],
   "source": [
    "X_blue = data[data[2] == 1]\n",
    "X_red = data[data[2] == 0]\n",
    "\n",
    "plt.scatter(X_blue[0],X_blue[1],c='blue',edgecolor='k',s=50)\n",
    "plt.scatter(X_red[0],X_red[1],c='red',edgecolor='k',s=50)\n",
    "for i in range(len(lines)-1):\n",
    "    print(i)\n",
    "    plt.plot((lines[i][0][0],0),(0,lines[i][1][0]),c='grey',linestyle=':')\n",
    "    \n",
    "plt.plot((lines[len(lines)-1][0][0],0),(0,lines[len(lines)-1][1][0]),c='black')\n",
    "plt.xlim(0,1.5)\n",
    "plt.ylim(-0.15,1.5)\n",
    "#y= lines[i][1][0]/lines[len(lines)-1][0][0] *x+lines[len(lines)-1][0][0]\n",
    "'''\n",
    "plt.fill_between(x,\n",
    "\n",
    "                 y>0,\n",
    "\n",
    "                 where=(0<x) & (x<1),\n",
    "\n",
    "                 facecolor='green')\n",
    "plt.fill_between(X, 1, 1, color='blue', alpha=.25)\n",
    "'''"
   ]
  },
  {
   "cell_type": "code",
   "execution_count": null,
   "metadata": {},
   "outputs": [],
   "source": []
  },
  {
   "cell_type": "code",
   "execution_count": null,
   "metadata": {},
   "outputs": [],
   "source": []
  }
 ],
 "metadata": {
  "kernelspec": {
   "display_name": "Python 3",
   "language": "python",
   "name": "python3"
  },
  "language_info": {
   "codemirror_mode": {
    "name": "ipython",
    "version": 3
   },
   "file_extension": ".py",
   "mimetype": "text/x-python",
   "name": "python",
   "nbconvert_exporter": "python",
   "pygments_lexer": "ipython3",
   "version": "3.6.5"
  }
 },
 "nbformat": 4,
 "nbformat_minor": 2
}
